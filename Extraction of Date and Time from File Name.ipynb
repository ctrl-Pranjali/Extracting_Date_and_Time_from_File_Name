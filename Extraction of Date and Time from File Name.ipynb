{
  "nbformat": 4,
  "nbformat_minor": 0,
  "metadata": {
    "colab": {
      "provenance": []
    },
    "kernelspec": {
      "name": "python3",
      "display_name": "Python 3"
    },
    "language_info": {
      "name": "python"
    }
  },
  "cells": [
    {
      "cell_type": "code",
      "execution_count": 1,
      "metadata": {
        "id": "ukSC5labiQhz",
        "colab": {
          "base_uri": "https://localhost:8080/"
        },
        "outputId": "3da56b2a-2444-469b-8b38-16a54716ce17"
      },
      "outputs": [
        {
          "output_type": "stream",
          "name": "stdout",
          "text": [
            "File1:\n",
            "Date: 20240619\n",
            "Time: 075612\n",
            "Datetime: 2024-06-19 07:56:12\n",
            "\n",
            "File2:\n",
            "Date: 20240619\n",
            "Time: 081806\n",
            "Datetime: 2024-06-19 08:18:06\n",
            "\n",
            "Time Difference between File1 and File2: 0:21:54\n"
          ]
        }
      ],
      "source": [
        "from datetime import datetime\n",
        "\n",
        "# Example filenames (you can replace these with your actual list of filenames)\n",
        "filenames = [\n",
        "    '/content/file example_20240619075612.avi',\n",
        "    '/content/file example_20240619081806.avi',\n",
        "    # Add more filenames as needed\n",
        "]\n",
        "\n",
        "def extract_date_time_and_datetime(filename):\n",
        "    # Remove the file extension\n",
        "    base_filename = filename.rsplit('.', 1)[0]\n",
        "    # Split the base filename by the underscore\n",
        "    parts = base_filename.split('_')\n",
        "    # The last part contains the datetime\n",
        "    datetime_str = parts[-1]\n",
        "\n",
        "    # Extract date and time using slicing\n",
        "    date = datetime_str[:8]  # First 8 characters for the date\n",
        "    time = datetime_str[8:]  # Remaining characters for the time\n",
        "\n",
        "    # Convert to datetime object\n",
        "    dt = datetime.strptime(datetime_str, '%Y%m%d%H%M%S')\n",
        "\n",
        "    return date, time, dt\n",
        "\n",
        "# Initialize lists to store extracted information\n",
        "dates = []\n",
        "times = []\n",
        "datetimes = []\n",
        "\n",
        "# Extract date, time, and datetime from each filename\n",
        "for filename in filenames:\n",
        "    date, time, dt = extract_date_time_and_datetime(filename)\n",
        "    dates.append(date)\n",
        "    times.append(time)\n",
        "    datetimes.append(dt)\n",
        "\n",
        "# Print extracted information for each filename\n",
        "for i, filename in enumerate(filenames):\n",
        "    file_num = i + 1\n",
        "    print(f\"File{file_num}:\")\n",
        "    print(\"Date:\", dates[i])\n",
        "    print(\"Time:\", times[i])\n",
        "    print(\"Datetime:\", datetimes[i])\n",
        "    print()\n",
        "\n",
        "# Example: Calculate differences between datetimes of consecutive videos\n",
        "for i in range(len(filenames) - 1):\n",
        "    file_num1 = i + 1\n",
        "    file_num2 = i + 2\n",
        "    time_difference = datetimes[i+1] - datetimes[i]\n",
        "    print(f\"Time Difference between File{file_num1} and File{file_num2}: {time_difference}\")\n",
        "\n"
      ]
    }
  ]
}